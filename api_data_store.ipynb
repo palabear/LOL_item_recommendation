{
 "cells": [
  {
   "cell_type": "code",
   "execution_count": 1,
   "id": "8fd0bb6e",
   "metadata": {},
   "outputs": [],
   "source": [
    "import requests\n",
    "from urllib import parse\n",
    "import pprint\n",
    "import requests\n",
    "import json\n",
    "import time\n",
    "import csv\n",
    "\n",
    "import pandas as pd\n",
    "\n",
    "# for문 진행률 확인 라이브러리\n",
    "from tqdm import tqdm\n",
    "pp = pprint.PrettyPrinter(indent=4)\n",
    "\n",
    "api_key = 'RGAPI-a0db683c-78a3-4efd-9cdb-2aa0352e7062'\n",
    "request_header = {\n",
    "    \"User-Agent\": \"Mozilla/5.0 (Windows NT 10.0; Win64; x64) AppleWebKit/537.36 (KHTML, like Gecko) Chrome/105.0.0.0 Safari/537.36\",\n",
    "    \"Accept-Language\": \"ko-KR,ko;q=0.9,en-US;q=0.8,en;q=0.7\",\n",
    "    \"Accept-Charset\": \"application/x-www-form-urlencoded; charset=UTF-8\",\n",
    "    \"Origin\": \"https://developer.riotgames.com\",\n",
    "    \"X-Riot-Token\": \"RGAPI-a0db683c-78a3-4efd-9cdb-2aa0352e7062\"\n",
    "}\n",
    "\n"
   ]
  },
  {
   "cell_type": "code",
   "execution_count": 2,
   "id": "bdeecc10",
   "metadata": {},
   "outputs": [],
   "source": [
    "game_data = pd.read_csv('gameid.csv')"
   ]
  },
  {
   "cell_type": "code",
   "execution_count": 12,
   "id": "9c2d199c",
   "metadata": {},
   "outputs": [],
   "source": [
    "game_data = game_data.T\n",
    "game_data = game_data.drop_duplicates()"
   ]
  },
  {
   "cell_type": "code",
   "execution_count": 21,
   "id": "30b731cb",
   "metadata": {},
   "outputs": [],
   "source": [
    "game_data['game_id'] = game_data.index"
   ]
  },
  {
   "cell_type": "code",
   "execution_count": 36,
   "id": "c9026517",
   "metadata": {
    "scrolled": true
   },
   "outputs": [],
   "source": [
    "game_data = game_data.reset_index()"
   ]
  },
  {
   "cell_type": "code",
   "execution_count": 38,
   "id": "7a49152c",
   "metadata": {},
   "outputs": [],
   "source": [
    "del game_data['index']"
   ]
  },
  {
   "cell_type": "code",
   "execution_count": 31,
   "id": "53e2acd1",
   "metadata": {},
   "outputs": [],
   "source": [
    "game_data = game_data[~game_data['game_id'].str.contains('status')]\n"
   ]
  },
  {
   "cell_type": "code",
   "execution_count": 35,
   "id": "83e0af3f",
   "metadata": {},
   "outputs": [],
   "source": [
    "game_data = game_data[~(game_data['game_id'].str.len()>13)]"
   ]
  },
  {
   "cell_type": "code",
   "execution_count": 41,
   "id": "5509b343",
   "metadata": {},
   "outputs": [],
   "source": [
    "game_data.to_csv('clean_gameid.csv', sep=',', na_rep='NaN')"
   ]
  },
  {
   "cell_type": "code",
   "execution_count": null,
   "id": "33c95e4e",
   "metadata": {},
   "outputs": [],
   "source": []
  }
 ],
 "metadata": {
  "kernelspec": {
   "display_name": "Python 3 (ipykernel)",
   "language": "python",
   "name": "python3"
  },
  "language_info": {
   "codemirror_mode": {
    "name": "ipython",
    "version": 3
   },
   "file_extension": ".py",
   "mimetype": "text/x-python",
   "name": "python",
   "nbconvert_exporter": "python",
   "pygments_lexer": "ipython3",
   "version": "3.9.12"
  }
 },
 "nbformat": 4,
 "nbformat_minor": 5
}

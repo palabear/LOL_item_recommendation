{
 "cells": [
  {
   "cell_type": "code",
   "execution_count": 1,
   "id": "85fcad4a",
   "metadata": {},
   "outputs": [],
   "source": [
    "import requests\n",
    "from urllib import parse\n",
    "import pprint\n",
    "import requests\n",
    "import json\n",
    "import time\n",
    "import csv\n",
    "\n",
    "import pandas as pd\n",
    "\n",
    "# for문 진행률 확인 라이브러리\n",
    "from tqdm import tqdm\n",
    "pp = pprint.PrettyPrinter(indent=4)\n",
    "\n",
    "api_key = 'RGAPI-a0db683c-78a3-4efd-9cdb-2aa0352e7062'\n",
    "request_header = {\n",
    "    \"User-Agent\": \"Mozilla/5.0 (Windows NT 10.0; Win64; x64) AppleWebKit/537.36 (KHTML, like Gecko) Chrome/105.0.0.0 Safari/537.36\",\n",
    "    \"Accept-Language\": \"ko-KR,ko;q=0.9,en-US;q=0.8,en;q=0.7\",\n",
    "    \"Accept-Charset\": \"application/x-www-form-urlencoded; charset=UTF-8\",\n",
    "    \"Origin\": \"https://developer.riotgames.com\",\n",
    "    \"X-Riot-Token\": \"RGAPI-a0db683c-78a3-4efd-9cdb-2aa0352e7062\"\n",
    "}\n",
    "\n"
   ]
  },
  {
   "cell_type": "code",
   "execution_count": 2,
   "id": "ed97d831",
   "metadata": {},
   "outputs": [],
   "source": [
    "game_data = pd.read_csv('gameid.csv')"
   ]
  },
  {
   "cell_type": "code",
   "execution_count": 5,
   "id": "ab6f8cfb",
   "metadata": {},
   "outputs": [],
   "source": [
    "game_data = game_data.drop_duplicates()"
   ]
  },
  {
   "cell_type": "code",
   "execution_count": 6,
   "id": "9b524fb6",
   "metadata": {},
   "outputs": [
    {
     "data": {
      "text/html": [
       "<div>\n",
       "<style scoped>\n",
       "    .dataframe tbody tr th:only-of-type {\n",
       "        vertical-align: middle;\n",
       "    }\n",
       "\n",
       "    .dataframe tbody tr th {\n",
       "        vertical-align: top;\n",
       "    }\n",
       "\n",
       "    .dataframe thead th {\n",
       "        text-align: right;\n",
       "    }\n",
       "</style>\n",
       "<table border=\"1\" class=\"dataframe\">\n",
       "  <thead>\n",
       "    <tr style=\"text-align: right;\">\n",
       "      <th></th>\n",
       "      <th>KR_6130320780</th>\n",
       "      <th>KR_6130197174</th>\n",
       "      <th>KR_6129462163</th>\n",
       "      <th>KR_6128696034</th>\n",
       "      <th>KR_6128629047</th>\n",
       "      <th>KR_6128234177</th>\n",
       "      <th>KR_6128211910</th>\n",
       "      <th>KR_6125845035</th>\n",
       "      <th>KR_6124546635</th>\n",
       "      <th>KR_6124398406</th>\n",
       "      <th>...</th>\n",
       "      <th>status.1864</th>\n",
       "      <th>status.1865</th>\n",
       "      <th>status.1866</th>\n",
       "      <th>status.1867</th>\n",
       "      <th>status.1868</th>\n",
       "      <th>status.1869</th>\n",
       "      <th>status.1870</th>\n",
       "      <th>status.1871</th>\n",
       "      <th>status.1872</th>\n",
       "      <th>status.1873</th>\n",
       "    </tr>\n",
       "  </thead>\n",
       "  <tbody>\n",
       "  </tbody>\n",
       "</table>\n",
       "<p>0 rows × 43974 columns</p>\n",
       "</div>"
      ],
      "text/plain": [
       "Empty DataFrame\n",
       "Columns: [KR_6130320780, KR_6130197174, KR_6129462163, KR_6128696034, KR_6128629047, KR_6128234177, KR_6128211910, KR_6125845035, KR_6124546635, KR_6124398406, KR_6123987810, KR_6123921921, KR_6100172650, KR_6100210130, KR_6100127625, KR_6100064124, KR_6100062667, KR_6098601655, KR_6098079567, KR_6098028345, KR_6128428780, KR_6128211593, KR_6128019851, KR_6127863157, KR_6127881590, KR_6127805232, KR_6127723439, KR_6127636825, KR_6127613620, KR_6127555567, KR_6126812934, KR_6125356936, KR_6125317278, KR_6125306002, KR_6125343922, KR_6125372666, KR_6123508119, KR_6123429504, KR_6123487454, KR_6123496855, KR_6128418876, KR_6127028669, KR_6126982969, KR_6125812661, KR_6125728833, KR_6125706857, KR_6125667894, KR_6125634826, KR_6125612339, KR_6124123525, KR_6124055689, KR_6124008434, KR_6117210790, KR_6117124650, KR_6116727093, KR_6116176635, KR_6113329530, KR_6113266132, KR_6112320551, KR_6112205929, KR_6129507039, KR_6129215046, KR_6129243212, KR_6129221918, KR_6129190942, KR_6129176536, KR_6129135170, KR_6127885600, KR_6125191093, KR_6121921119, KR_6121835260, KR_6121489670, KR_6121553074, KR_6121428145, KR_6121337614, KR_6121421467, KR_6121298432, KR_6121315498, KR_6121241150, KR_6121183789, KR_6129673792, KR_6128512884, KR_6128401709, KR_6128370469, KR_6128247185, KR_6128304425, KR_6127107067, KR_6127131927, KR_6127090148, KR_6125406802, KR_6121839025, KR_6121821808, KR_6121537383, KR_6121562414, KR_6116197251, KR_6116232403, KR_6116088692, KR_6116083980, KR_6115139803, KR_6115066929, ...]\n",
       "Index: []\n",
       "\n",
       "[0 rows x 43974 columns]"
      ]
     },
     "execution_count": 6,
     "metadata": {},
     "output_type": "execute_result"
    }
   ],
   "source": [
    "game_data"
   ]
  },
  {
   "cell_type": "code",
   "execution_count": null,
   "id": "406e9565",
   "metadata": {},
   "outputs": [],
   "source": []
  }
 ],
 "metadata": {
  "kernelspec": {
   "display_name": "Python 3 (ipykernel)",
   "language": "python",
   "name": "python3"
  },
  "language_info": {
   "codemirror_mode": {
    "name": "ipython",
    "version": 3
   },
   "file_extension": ".py",
   "mimetype": "text/x-python",
   "name": "python",
   "nbconvert_exporter": "python",
   "pygments_lexer": "ipython3",
   "version": "3.9.12"
  }
 },
 "nbformat": 4,
 "nbformat_minor": 5
}

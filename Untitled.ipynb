{
 "cells": [
  {
   "cell_type": "code",
   "execution_count": 1,
   "id": "5075bbbd",
   "metadata": {
    "scrolled": true
   },
   "outputs": [
    {
     "name": "stdout",
     "output_type": "stream",
     "text": [
      "\n",
      " Given Play Golf Dataset:\n",
      "\n",
      "        Position Champ_Name  Champ_ID  item0  item1  item2  item3  item4  \\\n",
      "0           TOP       Gwen       887   4633   3115   2421   3916   1055   \n",
      "1        JUNGLE    XinZhao         5   6333      0   3111   6630   3044   \n",
      "2        MIDDLE     Anivia        34   6656   4645   1082   2055   3020   \n",
      "3        BOTTOM   Aphelios       523   6671   6676   3006   1036   1036   \n",
      "4       UTILITY      Leona        89   3190   3117   3859   3067   1027   \n",
      "...         ...        ...       ...    ...    ...    ...    ...    ...   \n",
      "260745      TOP       Gwen       887   4633   3158   1026      0   1056   \n",
      "260746   JUNGLE    Kindred       203   6672   2031      0   3134   2055   \n",
      "260747   MIDDLE        Vex       711   1056   3041   3020   2421   6655   \n",
      "260748   BOTTOM     Samira       360   2031   6673   6676   1055   3047   \n",
      "260749  UTILITY   Nautilus       111      0   3859   3105   3067   3009   \n",
      "\n",
      "        item5  item6   win   vs  \n",
      "0        3111   3364  True   84  \n",
      "1        1028   3364  True   64  \n",
      "2        3070   3363  True   13  \n",
      "3           0   3363  True   29  \n",
      "4           0   3364  True   44  \n",
      "...       ...    ...   ...  ...  \n",
      "260745      0   3364  True   54  \n",
      "260746   3006   3364  True  120  \n",
      "260747   2055   3364  True    7  \n",
      "260748      0   3363  True  145  \n",
      "260749      0   3364  True  526  \n",
      "\n",
      "[260750 rows x 12 columns]\n"
     ]
    }
   ],
   "source": [
    "import pandas as pd\n",
    "\n",
    "df = pd.read_csv(\"game_data.csv\")\n",
    "print(\"\\n Given Play Golf Dataset:\\n\\n\", df)"
   ]
  },
  {
   "cell_type": "code",
   "execution_count": 4,
   "id": "9eee943e",
   "metadata": {
    "scrolled": true
   },
   "outputs": [
    {
     "name": "stdout",
     "output_type": "stream",
     "text": [
      "       Position Champ_Name  Champ_ID  item0  item1  item2  item3  item4  \\\n",
      "0           TOP       Gwen       887   4633   3115   2421   3916   1055   \n",
      "4632        TOP       Gwen       887   4633   2420   3089      0   3158   \n",
      "11480       TOP       Gwen       887   4633   1054   4645      0      0   \n",
      "11875       TOP       Gwen       887   4633   3089   4645      0   3135   \n",
      "18705       TOP       Gwen       887   4633   3102      0   4645   3135   \n",
      "20195       TOP       Gwen       887   1056   4630   1026   3102   4633   \n",
      "27305       TOP       Gwen       887   2031   1054   3158   3802   1026   \n",
      "39080       TOP       Gwen       887   4645   3111   1056      0   4633   \n",
      "51380       TOP       Gwen       887   3135   4633   4645   3165   2055   \n",
      "80185       TOP       Gwen       887   4645   4633   2421   1052   1054   \n",
      "126835      TOP       Gwen       887   3158   2420   4645   3108   4633   \n",
      "250980      TOP       Gwen       887   1056   4633   1052   1082      0   \n",
      "255070      TOP       Gwen       887   1056   3115   3047      0   4635   \n",
      "256820      TOP       Gwen       887   4645   4633   2420   3108      0   \n",
      "\n",
      "        item5  item6    win  vs  \n",
      "0        3111   3364   True  84  \n",
      "4632     3115   3363   True  84  \n",
      "11480    3158   3364   True  84  \n",
      "11875    3158   3340  False  84  \n",
      "18705    3158   3364   True  84  \n",
      "20195    3111   3364   True  84  \n",
      "27305    1082   3340  False  84  \n",
      "39080    1058   3364   True  84  \n",
      "51380    3158   3364  False  84  \n",
      "80185    3111   3364   True  84  \n",
      "126835   1056   3364   True  84  \n",
      "250980   1001   3340   True  84  \n",
      "255070      0   3340   True  84  \n",
      "256820   3158   3364  False  84  \n",
      "1\n"
     ]
    }
   ],
   "source": [
    "cnt = 0\n",
    "for i in df.Champ_ID.unique():\n",
    "    for j in  df.vs.unique():\n",
    "        mask = (df.Champ_ID == i) & (df.vs == j)\n",
    "        df_sub= df[mask]\n",
    "        cnt+=1\n",
    "        print(df_sub)\n",
    "        dff = df_sub\n",
    "        break\n",
    "    break\n",
    "        \n",
    "print(cnt)\n",
    "        \n",
    "    \n"
   ]
  },
  {
   "cell_type": "code",
   "execution_count": 16,
   "id": "d5e99c39",
   "metadata": {
    "scrolled": true
   },
   "outputs": [
    {
     "data": {
      "text/plain": [
       "4633    5\n",
       "1056    3\n",
       "4645    3\n",
       "2031    1\n",
       "3135    1\n",
       "3158    1\n",
       "Name: item0, dtype: int64"
      ]
     },
     "execution_count": 16,
     "metadata": {},
     "output_type": "execute_result"
    }
   ],
   "source": [
    "dfff = dff[['item0','item1','item2','item3','item4','item5','item6']]\n",
    "dff['item0'].value_counts()"
   ]
  },
  {
   "cell_type": "code",
   "execution_count": 13,
   "id": "dc05cb6b",
   "metadata": {},
   "outputs": [
    {
     "data": {
      "text/plain": [
       "item0     6\n",
       "item1     8\n",
       "item2    10\n",
       "item3     9\n",
       "item4     9\n",
       "item5     8\n",
       "item6     3\n",
       "dtype: int64"
      ]
     },
     "execution_count": 13,
     "metadata": {},
     "output_type": "execute_result"
    }
   ],
   "source": [
    "dfff.nunique()"
   ]
  },
  {
   "cell_type": "code",
   "execution_count": null,
   "id": "eb7faf05",
   "metadata": {
    "scrolled": false
   },
   "outputs": [],
   "source": [
    "df.Champ_ID.unique()"
   ]
  },
  {
   "cell_type": "code",
   "execution_count": null,
   "id": "d9ae0208",
   "metadata": {},
   "outputs": [],
   "source": [
    "from sklearn.datasets import load_boston\n",
    "import xgboost\n",
    "import matplotlib.pyplot as plt\n",
    "from sklearn.model_selection import train_test_split\n",
    "from sklearn.metrics import explained_variance_score\n",
    "\n",
    "boston = load_boston()\n",
    "X_train, X_test, y_train, y_test = train_test_split(boston.data, boston.target ,test_size=0.1)\n",
    "xgb_model = xgboost.XGBRegressor(n_estimators=100, learning_rate=0.08, gamma=0, subsample=0.75,\n",
    "                           colsample_bytree=1, max_depth=7)\n",
    "\n",
    "print(len(X_train), len(X_test))\n",
    "xgb_model.fit(X_train,y_train)"
   ]
  },
  {
   "cell_type": "code",
   "execution_count": null,
   "id": "a2eda0bf",
   "metadata": {
    "scrolled": true
   },
   "outputs": [],
   "source": [
    "xgboost.plot_importance(xgb_model)"
   ]
  },
  {
   "cell_type": "code",
   "execution_count": null,
   "id": "b01fd927",
   "metadata": {},
   "outputs": [],
   "source": [
    "boston.target"
   ]
  },
  {
   "cell_type": "code",
   "execution_count": null,
   "id": "7e0d98ba",
   "metadata": {},
   "outputs": [],
   "source": []
  }
 ],
 "metadata": {
  "kernelspec": {
   "display_name": "Python 3 (ipykernel)",
   "language": "python",
   "name": "python3"
  },
  "language_info": {
   "codemirror_mode": {
    "name": "ipython",
    "version": 3
   },
   "file_extension": ".py",
   "mimetype": "text/x-python",
   "name": "python",
   "nbconvert_exporter": "python",
   "pygments_lexer": "ipython3",
   "version": "3.9.12"
  }
 },
 "nbformat": 4,
 "nbformat_minor": 5
}
